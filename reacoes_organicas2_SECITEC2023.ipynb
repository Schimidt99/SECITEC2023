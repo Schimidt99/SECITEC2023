{
  "cells": [
    {
      "cell_type": "markdown",
      "metadata": {
        "id": "PS3G3EWn_7Oq"
      },
      "source": [
        "# Reações de substituição nucleofílica - ataque do haleto pelo NaCN"
      ]
    },
    {
      "cell_type": "code",
      "execution_count": 1,
      "metadata": {
        "id": "UzyktM8i_rZW"
      },
      "outputs": [],
      "source": [
        "# Install RDKit.\n",
        "%%capture\n",
        "!pip install rdkit-pypi"
      ]
    },
    {
      "cell_type": "code",
      "execution_count": 2,
      "metadata": {
        "colab": {
          "base_uri": "https://localhost:8080/"
        },
        "id": "dCerKBokAO90",
        "outputId": "5f22e921-0a23-4d24-b0d7-5bc2c11193ca"
      },
      "outputs": [
        {
          "output_type": "stream",
          "name": "stdout",
          "text": [
            "2022.09.5\n"
          ]
        }
      ],
      "source": [
        "import rdkit\n",
        "from rdkit import Chem\n",
        "from rdkit.Chem import AllChem\n",
        "import os\n",
        "print(rdkit.__version__)"
      ]
    },
    {
      "cell_type": "markdown",
      "metadata": {
        "id": "DwGx6wyPAdKU"
      },
      "source": [
        "Reação construída no MarvinSketch 22.13\n",
        "\n",
        "-lista de haletos em codigo SMILES em 'haletos.txt'\n",
        "\n",
        "-produtos da substituição nucleofílica em 'saida2.txt'"
      ]
    },
    {
      "cell_type": "code",
      "execution_count": 3,
      "metadata": {
        "id": "tzunREgfAOxE"
      },
      "outputs": [],
      "source": [
        "os.chdir(\"/content/\")\n",
        "\n",
        "file_name = 'haletos.txt'  # fazer o upload do arq TXT na pasta 'content' do Colab antes de tudo\n",
        "# reação simplificada - um reagente e um produto\n",
        "reacao = AllChem.ReactionFromSmarts('[#6:1]Cl>>[#6:1]C#N')\n",
        "\n",
        "with open(file_name, \"r\") as f:\n",
        "    smiles = []\n",
        "    for line in f:\n",
        "        smiles.append(line.split('\\n')[0])\n",
        "        m = Chem.MolFromSmiles(line)\n",
        "        ps = reacao.RunReactants((m,))\n",
        "        #print(ps)\n",
        "        if len(ps) > 0:\n",
        "         with open('saida2.txt', 'a') as g:\n",
        "           try:\n",
        "              Chem.SanitizeMol(ps[0][0])\n",
        "           except ValueError:\n",
        "              g.write('')\n",
        "           finally:\n",
        "              g.write(Chem.MolToSmiles(ps[0][0]))\n",
        "              g.write('\\n')\n",
        "\n",
        "\n",
        "\n"
      ]
    }
  ],
  "metadata": {
    "colab": {
      "provenance": []
    },
    "kernelspec": {
      "display_name": "Python 3",
      "name": "python3"
    },
    "language_info": {
      "name": "python"
    }
  },
  "nbformat": 4,
  "nbformat_minor": 0
}