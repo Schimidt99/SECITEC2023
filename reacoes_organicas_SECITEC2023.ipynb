{
  "cells": [
    {
      "cell_type": "markdown",
      "metadata": {
        "id": "PS3G3EWn_7Oq"
      },
      "source": [
        "# Reações de substituição - halogenação de alcanos com Cl2"
      ]
    },
    {
      "cell_type": "code",
      "execution_count": 1,
      "metadata": {
        "id": "UzyktM8i_rZW"
      },
      "outputs": [],
      "source": [
        "# Install RDKit.\n",
        "%%capture\n",
        "!pip install rdkit-pypi"
      ]
    },
    {
      "cell_type": "code",
      "execution_count": 3,
      "metadata": {
        "colab": {
          "base_uri": "https://localhost:8080/"
        },
        "id": "dCerKBokAO90",
        "outputId": "9db60e4e-6572-450b-f65d-d77fa758b31d"
      },
      "outputs": [
        {
          "output_type": "stream",
          "name": "stdout",
          "text": [
            "2022.09.5\n"
          ]
        }
      ],
      "source": [
        "import rdkit\n",
        "from rdkit import Chem\n",
        "from rdkit.Chem import AllChem\n",
        "import os\n",
        "print(rdkit.__version__)"
      ]
    },
    {
      "cell_type": "markdown",
      "metadata": {
        "id": "DwGx6wyPAdKU"
      },
      "source": [
        "Reação construída no MarvinSketch 22.13\n",
        "\n",
        "-lista de alcanos em codigo SMILES em 'alcanos.txt'\n",
        "\n",
        "-produtos da halogenação em 'saida.txt'"
      ]
    },
    {
      "cell_type": "code",
      "execution_count": 6,
      "metadata": {
        "id": "tzunREgfAOxE",
        "colab": {
          "base_uri": "https://localhost:8080/"
        },
        "outputId": "13def400-7135-4cf0-8aee-1ca57fcc05a8"
      },
      "outputs": [
        {
          "output_type": "stream",
          "name": "stderr",
          "text": [
            "[08:17:32] product atom-mapping number 2 not found in reactants.\n"
          ]
        }
      ],
      "source": [
        "os.chdir(\"/content/\")\n",
        "\n",
        "file_name = 'alcanos.txt'  # fazer o upload do arq TXT na pasta 'content' do Colab antes de tudo\n",
        "# reação simplificada - um reagente e um produto\n",
        "reacao = AllChem.ReactionFromSmarts('[#6:1]>>[#6:1][Cl:2]')\n",
        "\n",
        "with open(file_name, \"r\") as f:\n",
        "    smiles = []\n",
        "    for line in f:\n",
        "        smiles.append(line.split('\\n')[0])\n",
        "        m = Chem.MolFromSmiles(line)\n",
        "        ps = reacao.RunReactants((m,))\n",
        "        #print(ps)\n",
        "        if len(ps) > 0:\n",
        "         with open('saida.txt', 'a') as g:\n",
        "           try:\n",
        "              Chem.SanitizeMol(ps[0][0])\n",
        "           except ValueError:\n",
        "              g.write('')\n",
        "           finally:\n",
        "              g.write(Chem.MolToSmiles(ps[0][0]))\n",
        "              g.write('\\n')\n",
        "\n",
        "\n",
        "\n"
      ]
    }
  ],
  "metadata": {
    "colab": {
      "provenance": []
    },
    "kernelspec": {
      "display_name": "Python 3",
      "name": "python3"
    },
    "language_info": {
      "name": "python"
    }
  },
  "nbformat": 4,
  "nbformat_minor": 0
}